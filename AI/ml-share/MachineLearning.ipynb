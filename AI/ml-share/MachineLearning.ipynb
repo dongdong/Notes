{
 "cells": [
  {
   "cell_type": "markdown",
   "metadata": {},
   "source": [
    "### Outlines\n",
    "\n",
    "#### Introduction to Machine Learning\n",
    "    - Definitions, Types of learning algorithms\n",
    "    - Classic algorithms\n",
    "        > Linear Regression, Gradient Descent, Underfitting vs. overfitting, Regularization\n",
    "        > Logistic Regression, Softmax Regression, General Linear Models\n",
    "        > Neural Networks, DNN, CNN, RNN\n",
    "        > Genetative Learning Algorithms, Naive Bayes\n",
    "        > Support Vector Machines\n",
    "        > Tree Models, Bagging & Boosting\n",
    "        > KMeans\n",
    "    - Practical advices of machine learning\n",
    "        > Feature engineering: feature scale, discretization, one-hot encoding\n",
    "        > Hyper-parameter tuning\n",
    "        > Model Selection\n",
    "        > Bias vs. Variance\n",
    "        > Evaluation Metrics\n",
    "#### Practices of Machine Learning in Advertising\n",
    "    - Models used in CTR estimation\n",
    "        > LR\n",
    "        > GBDT + LR\n",
    "        > FM, FFM, DeepFM\n",
    "        > Wide and Deep\n",
    "        > FTRL\n",
    "    - Current models in Noxmobi"
   ]
  },
  {
   "cell_type": "markdown",
   "metadata": {},
   "source": [
    "### Introduction to Machine Learning"
   ]
  },
  {
   "cell_type": "markdown",
   "metadata": {},
   "source": [
    "#### 1. What is Machine Learning\n",
    "\n",
    "##### 1.1. Definitions\n",
    "- Arthur Samuel (1959). Machine Learning: Field of study that gives computers the ability to learn without being explicitly programmed.\n",
    "- Tom Mitchell (1998). Well-posed Learning Problem: A computer program is said to learn from experience E with respect to some task T and some performance measure P, if its performance on T, as measured by P, improves with experience, e.g:\n",
    "    * T: classifying emails as spam or not\n",
    "    * E: watching you label emails as spam or not\n",
    "    * P: the number of fraction of emails correctly classified as spam/not spam\n",
    "\n",
    "##### 1.2. Machine Learning vs. AI\n",
    "- Artificial Intelligence is a discipline\n",
    "- Machine learning is a specific way of solving AI problems\n",
    "<img src='imgs/1_1_ml_ai.png' height=\"200\" width=\"200\" style=\"margin:20px;\">\n",
    "\n",
    "##### 1.3. Why Machine Learning\n",
    "<img src='imgs/1_1_ml_why_1.png' height=\"300\" width=\"600\" style=\"margin:20px;\">\n",
    "<img src='imgs/1_1_ml_why_2.png' height=\"300\" width=\"600\" style=\"margin:20px;\">\n",
    "\n",
    "##### 1.4. Types of machine learnings\n",
    "- Supervised learning\n",
    "    - \"right answers\" given\n",
    "    - Regression: predict continuous valued output; e.g., housing price prediction\n",
    "        <img src='imgs/1_1_regression.png' height=\"300\" width=\"500\" style=\"margin:20px;\">\n",
    "    - Classification: predict discrete valued output (0 or 1); e.g., cancer detection: malignant or benign \n",
    "        <img src='imgs/1_1_classification.png' height=\"300\" width=\"300\" style=\"margin:20px;\">\n",
    "- Unsupervised learning\n",
    "    - Clustering\n",
    "        <img src='imgs/1_1_clustering.png' height=\"300\" width=\"300\" style=\"margin:20px;\">\n",
    "- Others: Reinforcement learning, Recommender systems\n",
    "\n",
    "##### 1.5. Machine Learning Workflow\n",
    "<img src='imgs/1_1_workflow.png' height=\"250\" width=\"250\" style=\"margin:20px;\">\n",
    "<img src='imgs/1_1_ml_stage_1.png' height=\"320\" width=\"480\" style=\"margin:20px;\">\n",
    "<img src='imgs/1_1_ml_stage_2.png' height=\"240\" width=\"480\" style=\"margin:20px;\">"
   ]
  },
  {
   "cell_type": "markdown",
   "metadata": {},
   "source": [
    "#### 2. Linear Regression\n",
    "\n",
    "##### 2.1. Training set & Notations\n",
    "<img src='imgs/1_2_notations.png' height=\"300\" width=\"500\" style=\"margin:20px;\">\n",
    "\n",
    "##### 2.2. Hypothesis & Cost function\n",
    "<img src='imgs/1_2_hypothesis.png' height=\"500\" width=\"250\" style=\"margin:20px;\">\n",
    "<img src='imgs/1_2_cost_function.png' height=\"500\" width=\"250\" style=\"margin:20px;\">\n",
    "<img src='imgs/1_2_cost_function_1.png' height=\"300\" width=\"400\" style=\"margin:20px;\">\n",
    "<img src='imgs/1_2_cost_function_2.png' height=\"400\" width=\"600\" style=\"margin:20px;\">\n",
    "<img src='imgs/1_2_cost_function_3.png' height=\"400\" width=\"600\" style=\"margin:20px;\">\n",
    "\n",
    "##### 2.3. Gradient Descent & Learning rate\n",
    "<img src='imgs/1_2_gradient_descent_1.png' height=\"320\" width=\"400\" style=\"margin:20px;\">\n",
    "<img src='imgs/1_2_gradient_descent_2.png' height=\"320\" width=\"400\" style=\"margin:20px;\">\n",
    "<img src='imgs/1_2_gradient_descent_3.png' height=\"320\" width=\"500\" style=\"margin:20px;\">\n",
    "<img src='imgs/1_2_gradient_descent_10.png' height=\"320\" width=\"500\" style=\"margin:20px;\">\n",
    "<img src='imgs/1_2_gradient_descent_4.png' height=\"320\" width=\"500\" style=\"margin:20px;\">\n",
    "<img src='imgs/1_2_gradient_descent_5.png' height=\"320\" width=\"500\" style=\"margin:20px;\">\n",
    "<img src='imgs/1_2_gradient_descent_6.png' height=\"400\" width=\"600\" style=\"margin:20px;\">\n",
    "<img src='imgs/1_2_gradient_descent_7.png' height=\"400\" width=\"600\" style=\"margin:20px;\">\n",
    "<img src='imgs/1_2_gradient_descent_8.png' height=\"400\" width=\"600\" style=\"margin:20px;\">\n",
    "<img src='imgs/1_2_gradient_descent_9.png' height=\"400\" width=\"600\" style=\"margin:20px;\">\n",
    "\n",
    "- Batch gradient descent\n",
    "- stochastic gradient descent\n",
    "- Mini-batch gradient descent\n",
    "\n",
    "##### 2.4. Linear Regression with multiple variables\n",
    "<img src='imgs/1_2_multi_variable_1.png' height=\"400\" width=\"600\" style=\"margin:20px;\">\n",
    "<img src='imgs/1_2_multi_variable_2.png' height=\"400\" width=\"500\" style=\"margin:20px;\">\n",
    "<img src='imgs/1_2_multi_variable_3.png' height=\"400\" width=\"500\" style=\"margin:20px;\">"
   ]
  },
  {
   "cell_type": "code",
   "execution_count": 4,
   "metadata": {},
   "outputs": [
    {
     "name": "stdout",
     "output_type": "stream",
     "text": [
      "Populating the interactive namespace from numpy and matplotlib\n"
     ]
    },
    {
     "data": {
      "image/png": "[encoded data removed]",
      "text/plain": [
       "<matplotlib.figure.Figure at 0x1831441be0>"
      ]
     },
     "metadata": {},
     "output_type": "display_data"
    }
   ],
   "source": [
    "# Linear Regression Demo\n",
    "\n",
    "import tensorflow as tf\n",
    "import numpy\n",
    "import matplotlib.pyplot as plt\n",
    "\n",
    "%pylab inline\n",
    "\n",
    "rng = numpy.random\n",
    "\n",
    "# Training Data\n",
    "train_X = numpy.asarray([3.3,4.4,5.5,6.71,6.93,4.168,9.779,6.182,7.59,2.167,\n",
    "                         7.042,10.791,5.313,7.997,5.654,9.27,3.1])\n",
    "train_Y = numpy.asarray([1.7,2.76,2.09,3.19,1.694,1.573,3.366,2.596,2.53,1.221,\n",
    "                         2.827,3.465,1.65,2.904,2.42,2.94,1.3])\n",
    "n_samples = train_X.shape[0]\n",
    "\n",
    "#Graphic display\n",
    "plt.plot(train_X, train_Y, 'ro', label='data')\n",
    "plt.show()"
   ]
  },
  {
   "cell_type": "code",
   "execution_count": 11,
   "metadata": {},
   "outputs": [
    {
     "name": "stdout",
     "output_type": "stream",
     "text": [
      "Epoch: 0100 cost= 0.094598405 W= 0.17572212 b= 1.3328923\n",
      "Epoch: 0200 cost= 0.090779841 W= 0.18424803 b= 1.2715579\n",
      "Epoch: 0300 cost= 0.087790437 W= 0.19179012 b= 1.2173002\n",
      "Epoch: 0400 cost= 0.085450403 W= 0.1984609 b= 1.1693114\n",
      "Epoch: 0500 cost= 0.083618298 W= 0.20436181 b= 1.1268604\n",
      "Epoch: 0600 cost= 0.082183793 W= 0.20958172 b= 1.0893091\n",
      "Epoch: 0700 cost= 0.081060402 W= 0.21419944 b= 1.0560896\n",
      "Epoch: 0800 cost= 0.080180652 W= 0.21828431 b= 1.0267031\n",
      "Epoch: 0900 cost= 0.079491548 W= 0.22189802 b= 1.0007062\n",
      "Epoch: 1000 cost= 0.078951813 W= 0.22509465 b= 0.97771007\n",
      "Optimization Finished!\n",
      "Training cost= 0.07895181 W= 0.22509465 b= 0.97771007 \n",
      "\n"
     ]
    },
    {
     "data": {
      "image/png": "[encoded data removed]",
      "text/plain": [
       "<matplotlib.figure.Figure at 0x1831f42550>"
      ]
     },
     "metadata": {},
     "output_type": "display_data"
    }
   ],
   "source": [
    "# Parameters\n",
    "learning_rate = 0.01\n",
    "training_epochs = 1000\n",
    "display_step = 100\n",
    "\n",
    "# tf Graph Input\n",
    "X = tf.placeholder(\"float\")\n",
    "Y = tf.placeholder(\"float\")\n",
    "\n",
    "# Set model weights\n",
    "W = tf.Variable(rng.randn(), name=\"weight\")\n",
    "b = tf.Variable(rng.randn(), name=\"bias\")\n",
    "\n",
    "# Construct a linear model\n",
    "pred = tf.add(tf.multiply(X, W), b)\n",
    "# Mean squared error\n",
    "cost = tf.reduce_sum(tf.pow(pred - Y, 2)) / (2 * n_samples)\n",
    "# Gradient descent\n",
    "optimizer = tf.train.GradientDescentOptimizer(learning_rate).minimize(cost)\n",
    "\n",
    "# Initialize the variables (i.e. assign their default value)\n",
    "init = tf.global_variables_initializer()\n",
    "\n",
    "# Start training\n",
    "with tf.Session() as sess:\n",
    "    sess.run(init)\n",
    "\n",
    "    # Fit all training data\n",
    "    for epoch in range(training_epochs):\n",
    "        for (x, y) in zip(train_X, train_Y):\n",
    "            sess.run(optimizer, feed_dict={X: x, Y: y})\n",
    "\n",
    "        #Display logs per epoch step\n",
    "        if (epoch+1) % display_step == 0:\n",
    "            c = sess.run(cost, feed_dict={X: train_X, Y:train_Y})\n",
    "            print(\"Epoch:\", '%04d' % (epoch+1), \"cost=\", \"{:.9f}\".format(c), \\\n",
    "                \"W=\", sess.run(W), \"b=\", sess.run(b))\n",
    "            \n",
    "            \n",
    "\n",
    "    print(\"Optimization Finished!\")\n",
    "    training_cost, W_value, b_value = sess.run([cost, W, b], feed_dict={X: train_X, Y: train_Y})\n",
    "    print(\"Training cost=\", training_cost, \"W=\", W_value, \"b=\", b_value, '\\n')\n",
    "\n",
    "\n",
    "#Graphic display\n",
    "plt.plot(train_X, train_Y, 'ro', label='Original data')\n",
    "plt.plot(train_X, W_value * train_X + b_value, label='Fitted line')\n",
    "plt.show()"
   ]
  },
  {
   "cell_type": "markdown",
   "metadata": {},
   "source": [
    "#### 3. Logistic Regression\n",
    "\n",
    "##### 3.1. Hypothesis representation\n",
    "<img src='imgs/1_3_hypothesis.png' height=\"640\" width=\"480\" style=\"margin:20px;\">\n",
    "\n",
    "##### 3.2. Decision boundary\n",
    "<img src='imgs/1_3_decision_boundary_1.png' height=\"480\" width=\"500\" style=\"margin:20px;\">\n",
    "<img src='imgs/1_3_decision_boundary_2.png' height=\"480\" width=\"500\" style=\"margin:20px;\">\n",
    "\n",
    "##### 3.3. Cost function\n",
    "<img src='imgs/1_3_cost_function_1.png' height=\"480\" width=\"500\" style=\"margin:20px;\">\n",
    "<img src='imgs/1_3_cost_function_2.png' height=\"480\" width=\"560\" style=\"margin:20px;\">\n",
    "\n",
    "##### 3.4. Gradient Descent\n",
    "<img src='imgs/1_3_gradient_descent.png' height=\"480\" width=\"500\" style=\"margin:20px;\">"
   ]
  },
  {
   "cell_type": "markdown",
   "metadata": {},
   "source": [
    "##### 3.5 Overfitting vs. Underfitting\n",
    "\n",
    "<img src='imgs/1_3_overfitting_1.png' height=\"480\" width=\"600\" style=\"margin:20px;\">\n",
    "<img src='imgs/1_3_overfitting_2.png' height=\"480\" width=\"600\" style=\"margin:20px;\">\n",
    "\n",
    "##### 3.6 Regularization\n",
    "<img src='imgs/1_3_regularization_1.png' height=\"480\" width=\"500\" style=\"margin:20px;\">\n",
    "<img src='imgs/1_3_regularization_2.png' height=\"480\" width=\"500\" style=\"margin:20px;\">\n",
    "<img src='imgs/1_3_regularization_3.png' height=\"480\" width=\"500\" style=\"margin:20px;\">"
   ]
  },
  {
   "cell_type": "markdown",
   "metadata": {},
   "source": [
    "#### 4. Nerual Networks\n",
    "\n",
    "##### 4.1. Nerual Network Examples\n",
    "- Standard NN\n",
    "- Convolutional NN\n",
    "- Recurrent NN\n",
    "<img src='imgs/1_4_nn_examples.png' height=\"480\" width=\"600\" style=\"margin:20px;\">\n",
    "\n",
    "##### 4.2. Computation Graph of Logistic Regression, Forward popagation & Backward popagation\n",
    "<img src='imgs/1_4_lr_1.png' height=\"480\" width=\"500\" style=\"margin:20px;\">\n",
    "<img src='imgs/1_4_lr_2.png' height=\"480\" width=\"500\" style=\"margin:20px;\">\n",
    "<img src='imgs/1_4_lr_3.png' height=\"480\" width=\"300\" style=\"margin:20px;\">\n",
    "\n",
    "##### 4.3. Nerual Network Representation\n",
    "<img src='imgs/1_4_nn_representation_1.png' height=\"400\" width=\"500\" style=\"margin:20px;\">\n",
    "<img src='imgs/1_4_nn_representation_2.png' height=\"480\" width=\"560\" style=\"margin:20px;\">\n",
    "\n",
    "##### 4.4 Activation Functions\n",
    "<img src='imgs/1_4_activation_functions.png' height=\"400\" width=\"500\" style=\"margin:20px;\">\n",
    "\n",
    "- Why no-linear activation functions?\n",
    "<img src='imgs/1_4_activation_functions_1.png' height=\"400\" width=\"500\" style=\"margin:20px;\">\n",
    "\n",
    "##### 4.5 Gradient descent for Neural Networks\n",
    "<img src='imgs/1_4_nn_gradient_descent_1.png' height=\"400\" width=\"500\" style=\"margin:20px;\">\n",
    "<img src='imgs/1_4_nn_gradient_descent_2.png' height=\"400\" width=\"500\" style=\"margin:20px;\">\n",
    "\n",
    "##### 4.6 Why Neural Networks\n",
    "[demo1:LR](http://playground.tensorflow.org/#activation=sigmoid&batchSize=10&dataset=xor&regDataset=reg-plane&learningRate=0.03&regularizationRate=0.003&noise=0&networkShape=1&seed=0.29336&showTestData=false&discretize=false&percTrainData=50&x=true&y=true&xTimesY=false&xSquared=false&ySquared=false&cosX=false&sinX=false&cosY=false&sinY=false&collectStats=false&problem=classification&initZero=false&hideText=false)\n",
    "\n",
    "[demo1:LR+cross feature](http://playground.tensorflow.org/#activation=sigmoid&batchSize=10&dataset=xor&regDataset=reg-plane&learningRate=0.03&regularizationRate=0.003&noise=0&networkShape=1&seed=0.29336&showTestData=false&discretize=false&percTrainData=50&x=true&y=true&xTimesY=true&xSquared=false&ySquared=false&cosX=false&sinX=false&cosY=false&sinY=false&collectStats=false&problem=classification&initZero=false&hideText=false)\n",
    "\n",
    "[demo1:1 Neural Network](http://playground.tensorflow.org/#activation=relu&batchSize=10&dataset=xor&regDataset=reg-plane&learningRate=0.03&regularizationRate=0.003&noise=0&networkShape=4&seed=0.29336&showTestData=false&discretize=false&percTrainData=50&x=true&y=true&xTimesY=false&xSquared=false&ySquared=false&cosX=false&sinX=false&cosY=false&sinY=false&collectStats=false&problem=classification&initZero=false&hideText=false)\n",
    "\n",
    "[demo2: Neural Networks](http://playground.tensorflow.org/#activation=relu&batchSize=10&dataset=spiral&regDataset=reg-plane&learningRate=0.03&regularizationRate=0.1&noise=0&networkShape=8,8,4&seed=0.01034&showTestData=false&discretize=false&percTrainData=50&x=true&y=true&xTimesY=false&xSquared=false&ySquared=false&cosX=false&sinX=false&cosY=false&sinY=false&collectStats=false&problem=classification&initZero=false&hideText=false)"
   ]
  },
  {
   "cell_type": "markdown",
   "metadata": {},
   "source": [
    "#### 5. DNN: Deep Neural Network\n",
    "\n",
    "##### 5.1. Deep Neural Network\n",
    "<img src='imgs/1_4_dnn.png' height=\"400\" width=\"600\" style=\"margin:20px;\">\n",
    "\n",
    "##### 5.2. Why is Deep Learning taking off?\n",
    "<img src='imgs/1_4_why_dl.png' height=\"480\" width=\"500\" style=\"margin:20px;\">\n",
    "\n",
    "##### 5.3. Dropout Regularization\n",
    "<img src='imgs/1_4_nn_dropout.png' height=\"400\" width=\"600\" style=\"margin:20px;\">\n",
    "- Dropout intuition: do not rely on any one feature, spread out weights\n",
    "\n",
    "##### 5.4. Vanishing/exploding gradients\n",
    "\n",
    "\n",
    "##### 5.5. Optimization Algorithms\n",
    "- Gradient descent with momentum\n",
    "- RMSprop\n",
    "- Adam optimization algorithm\n",
    "- Learning rate decay\n",
    "\n",
    "##### 5.6. Batch Normalization\n",
    "\n",
    "##### 5.7. Transfer Learning\n",
    "\n",
    "##### 5.8. Multi-task Learning\n",
    "\n",
    "##### 5.9. End-to-end Deep Learning"
   ]
  },
  {
   "cell_type": "markdown",
   "metadata": {},
   "source": [
    "#### 6. CNN: Convolutional Neural Network\n",
    "\n",
    "##### 6.1. Computer Vision"
   ]
  },
  {
   "cell_type": "markdown",
   "metadata": {},
   "source": [
    "#### 7. RNN: Recursive Neural Network"
   ]
  },
  {
   "cell_type": "markdown",
   "metadata": {},
   "source": [
    "##### Practical Advises I: Feature Scaling\n",
    "\n",
    "<img src='imgs/2_1_feature_scaling_1.png' height=\"400\" width=\"500\" style=\"margin:20px;\">\n",
    "- Get every feature into approximately a [-1, 1] range\n",
    "- Mean normalization\n",
    "<img src='imgs/2_1_feature_scaling_2.png' height=\"400\" width=\"500\" style=\"margin:20px;\">"
   ]
  },
  {
   "cell_type": "markdown",
   "metadata": {},
   "source": [
    "##### Practical Advises II: Gradient descent debugging & Learning rate tunning\n",
    "\n",
    "<img src='imgs/2_2_learning_rate_1.png' height=\"400\" width=\"500\" style=\"margin:20px;\">\n",
    "<img src='imgs/2_2_learning_rate_2.png' height=\"400\" width=\"500\" style=\"margin:20px;\">\n",
    "\n",
    "- If learning rate is too small: slow convergence.\n",
    "- If learning rate is too large: may not decrease on every iteration; may not converge."
   ]
  },
  {
   "cell_type": "markdown",
   "metadata": {},
   "source": [
    "##### Practical Advises III: Model Selection\n",
    "\n",
    "- Training/validation/test sets\n",
    "\n",
    "- Evaluate your hypothesis\n",
    "<img src='imgs/2_3_model_selection_1.png' height=\"400\" width=\"500\" style=\"margin:20px;\">\n",
    "\n",
    "- Training/validation/test errors\n",
    "<img src='imgs/2_3_model_selection_2.png' height=\"400\" width=\"400\" style=\"margin:20px;\">\n",
    "\n",
    "- K-fold"
   ]
  },
  {
   "cell_type": "markdown",
   "metadata": {},
   "source": [
    "##### Practical Advises IV: Diagnosing bias vs. variance, Learning curves\n",
    "\n",
    "- Bias Vs. Variance\n",
    "<img src='imgs/2_4_learning_curves_1.png' height=\"400\" width=\"560\" style=\"margin:20px;\">\n",
    "<img src='imgs/2_4_bias_variance_1.png' height=\"400\" width=\"520\" style=\"margin:20px;\">\n",
    "<img src='imgs/2_4_bias_variance_2.png' height=\"400\" width=\"520\" style=\"margin:20px;\">\n",
    "<img src='imgs/2_4_bias_variance_3.png' height=\"320\" width=\"480\" style=\"margin:20px;\">\n",
    "\n",
    "- Learning curves\n",
    "<img src='imgs/2_4_learning_curves_2.png' height=\"360\" width=\"360\" style=\"margin:20px;\">\n",
    "\n",
    "- Diagnose bias/variance by earning curves\n",
    "<img src='imgs/2_4_learning_curves_3.png' height=\"400\" width=\"450\" style=\"margin:20px;\">\n",
    "<img src='imgs/2_4_learning_curves_4.png' height=\"400\" width=\"450\" style=\"margin:20px;\">\n",
    "\n",
    "- What should do next?\n",
    "<img src='imgs/2_4_learning_curves_5.png' height=\"400\" width=\"500\" style=\"margin:20px;\">\n",
    "\n",
    "- Large data rational\n",
    "<img src='imgs/2_4_large_data.png' height=\"360\" width=\"420\" style=\"margin:20px;\">\n",
    "\n",
    "- Basic recipe for machine learning\n",
    "<img src='imgs/2_4_recipe.png' height=\"400\" width=\"500\" style=\"margin:20px;\">\n",
    "\n",
    "- Bias and Variance with mismatched data distributions"
   ]
  },
  {
   "cell_type": "markdown",
   "metadata": {},
   "source": [
    "##### Practical Advises V: Evaluation Metrics\n",
    "\n",
    "- Precision & recall\n",
    "    - Skewed classes, e.g, cancer classification, only 0.50% of patients have cancer\n",
    "<img src='imgs/2_5_precision_recall_1.png' height=\"500\" width=\"540\" style=\"margin:20px;\">\n",
    "\n",
    "- Precison recall tradeoff\n",
    "<img src='imgs/2_5_precision_recall_2.png' height=\"400\" width=\"360\" style=\"margin:20px;\">\n",
    "\n",
    "- F1 score\n",
    "<img src='imgs/2_5_F1_score_1.png' height=\"360\" width=\"360\" style=\"margin:20px;\">\n",
    "\n",
    "- ROC, AUC\n",
    "\n",
    "- Satisficing and optimizing metrics\n",
    "\n",
    "- Comparing to human-level performance\n",
    "    - Avoidable bias\n",
    "    "
   ]
  },
  {
   "cell_type": "markdown",
   "metadata": {},
   "source": [
    "### Practices of Machine Learning in Avertising"
   ]
  },
  {
   "cell_type": "markdown",
   "metadata": {},
   "source": [
    "#### 1. Introduction to RTB"
   ]
  },
  {
   "cell_type": "markdown",
   "metadata": {},
   "source": [
    "##### 1.1. How RTB works\n",
    "<img src='imgs/3_1_rtb.png' height=\"480\" width=\"640\" style=\"margin:20px;\">\n",
    "\n",
    "- RTB: Real-time Bidding\n",
    "- Supply side platforms (SSP) serve publishers by registering their inventories (impressions) from multiple ad networks and accepting bids and placing ads automatically\n",
    "- Adexchanges(ADX) combine multiple adnetworks together. When publishers request ads with a given context to serve users, the ADX contacts candidate Ad Networks (ADN) in real-time for a wider selection of relevant ads\n",
    "- Demand side platforms (DSP) serve advertisers or ad agencies by bidding for their campaigns in multiple ad networks automatically\n",
    "- Dataexchanges(DX), also called Data Management Platforms(DMP), serve DSP, SSP and ADX by providing user historical data (usually in real-time) for better matching\n",
    "\n",
    "##### 1.2. Bidding Process\n",
    "<img src='imgs/3_1_bidding.png' height=\"480\" width=\"600\" style=\"margin:20px;\">\n",
    " \n",
    "##### 1.3. Example of CTR estimation\n",
    "<img src='imgs/3_1_ctr.png' height=\"480\" width=\"420\" style=\"margin:20px;\">"
   ]
  },
  {
   "cell_type": "markdown",
   "metadata": {},
   "source": [
    "#### 2. Models used in CTR estimation"
   ]
  },
  {
   "cell_type": "markdown",
   "metadata": {},
   "source": [
    "##### 2.1. Logistic Regression\n",
    "<img src='imgs/3_2_ctr_lr.png' height=\"120\" width=\"400\" style=\"margin:20px;\">\n",
    "\n",
    "##### 2.2. GBDT + LR\n",
    "<img src='imgs/3_2_ctr_lr_gbdt.png' height=\"360\" width=\"320\" style=\"margin:20px;\">\n",
    "- Facebook, 2014\n",
    "\n",
    "##### 2.3. FM, FFM\n",
    "- FM: Factorization Machines\n",
    "<img src='imgs/3_2_ctr_fm.png' height=\"150\" width=\"480\" style=\"margin:20px;\">\n",
    "- FFM: Field aware Factorization Machines\n",
    "<img src='imgs/3_2_ctr_ffm.png' height=\"150\" width=\"480\" style=\"margin:20px;\">\n",
    "\n",
    "##### 2.5. Wide and Deep\n",
    "<img src='imgs/3_2_ctr_wdl.png' height=\"480\" width=\"720\" style=\"margin:20px;\">\n",
    "- Google, 2016\n",
    "- Wide: memorization\n",
    "- Deep: generalization\n",
    "\n",
    "##### 2.4. DeepFM\n",
    "<img src='imgs/3_2_ctr_deepfm_1.png' height=\"480\" width=\"600\" style=\"margin:20px;\">\n",
    "<img src='imgs/3_2_ctr_deepfm_2.png' height=\"480\" width=\"600\" style=\"margin:20px;\">\n",
    "<img src='imgs/3_2_ctr_deepfm_3.png' height=\"480\" width=\"600\" style=\"margin:20px;\">\n",
    "\n",
    "##### 2.6. ESMM \n",
    "<img src='imgs/3_2_ctr_esmm.png' height=\"480\" width=\"600\" style=\"margin:20px;\">\n",
    "- ESMM: Entire Space Multi-Task Model, An Effective Approach for Estimating Post-Click Conversion Rate\n",
    "- Alibaba, 2018\n",
    "- Elimiante 2 problems: \n",
    "    1. sample selection bias\n",
    "    2. data sparsity"
   ]
  }
 ],
 "metadata": {
  "kernelspec": {
   "display_name": "Python 3",
   "language": "python",
   "name": "python3"
  },
  "language_info": {
   "codemirror_mode": {
    "name": "ipython",
    "version": 3
   },
   "file_extension": ".py",
   "mimetype": "text/x-python",
   "name": "python",
   "nbconvert_exporter": "python",
   "pygments_lexer": "ipython3",
   "version": "3.6.4"
  }
 },
 "nbformat": 4,
 "nbformat_minor": 2
}
