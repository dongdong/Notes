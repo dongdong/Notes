{
 "cells": [
  {
   "cell_type": "markdown",
   "id": "8e075654",
   "metadata": {},
   "source": [
    "### 2. An Array of Sequence\n",
    "\n",
    "\n",
    "##### Types of Sequences\n",
    "- Build-in sequences:\n",
    "    - container sequences: can hold items of different types, list, tuple, and collections.deque\n",
    "    - Flat sequences: hold items of one type, str, bytes, bytearray, memoryview, and array.array\n",
    "- another way of grouping:\n",
    "    - mutable sequences: list, bytearray, array.array, collections.deque, memoryview\n",
    "    - immutable sequences: tuple, str, and bytes\n",
    "\n",
    "\n",
    "##### list comprehesions and Generator Expressions\n",
    "- list comprehesion: more readable; you should keep it short\n",
    "- genexp: saves memory, yields items one by one using the iterator protocol\n",
    "\n",
    "\n",
    "##### Tuples are not just immutable Lists\n",
    "- Tuples used as records: the number of items is fixed and their order is vital\n",
    "- Tuple unpacking\n",
    "    - swapping the values of variables without using a temporary variable\n",
    "    - prefixing an argument with a star * when calling a function\n",
    "    - use * to grab excess items\n",
    "    - Nested Tuple unpacking: expression should match the nesting structure\n",
    "- Named Tuples\n",
    "    - collections.namedtuple\n",
    "    - use same memory as tuple, but less memory as regular object\n",
    "    - _fields: a tuple of field names of the class\n",
    "    - _make(iterable): instantiate a named tuple from an iterable\n",
    "    - _asdict(): returns OrderedDict build from namedtuple instance\n",
    "- Tuples as Immutable Lists\n",
    "    - tuple supports all list methods except adding or removing items\n",
    "    \n",
    "\n",
    "##### Slicing\n",
    "- seq[start:stop:step]\n",
    "- slice object: slice(a, b, c)\n",
    "- seq[start:stop:step]  -->  seq.\\_\\_getitem\\_\\_(slice(start, stop, step))\n",
    "\n",
    "\n",
    "##### sorting\n",
    "- list.sort sorts a list in place, return None (cannot cascade calls)\n",
    "- sorted create and return a new list\n",
    "    - accept any interable object including immutable sequences and generators\n",
    "- managing ordered Sequences with bisect\n",
    "    - use binanry search algorithm to quickly find and insert items in any sorted sequence\n",
    "    - searching with **bisect.bisect**, **bisect.bisect_left**\n",
    "    - inserting with **bisect.insort**\n",
    "\n",
    "\n",
    "##### Other types of Sequences\n",
    "- Arrays: more **efficient** if the list only constains numbers\n",
    "- Memory Views: shared-memory sequence, handle slices of arrays without copying bytes\n",
    "- Numpy and Scipy: advanced array and matrix operations, scientific computing algorithms\n",
    "- collections.deque: a thread-safe, double-ended queue designed for fast inserting and removing from both ends\n",
    "    - discard items from the opposite end when queue is full and append items\n",
    "- queue.Queue, queue.LifoQueue, queue.PriorityQueue; used for safe communication between threads. \n",
    "    - insertion is blocked when queue is full, instead of discarding items\n",
    "- multiprocessing queue: designed for iterprocess communication\n",
    "- asycio queue: Queue, LifoQueue, PriorityQueue, JoinableQueue; manage tasks in asynchronous programming\n",
    "- heapq: provide functions like heappush, heappop"
   ]
  },
  {
   "cell_type": "code",
   "execution_count": 6,
   "id": "e9d4d486",
   "metadata": {},
   "outputs": [
    {
     "name": "stdout",
     "output_type": "stream",
     "text": [
      "[('black', 'S'), ('black', 'M'), ('black', 'L'), ('white', 'S'), ('white', 'M'), ('white', 'L')]\n",
      "black S\n",
      "black M\n",
      "black L\n",
      "white S\n",
      "white M\n",
      "white L\n"
     ]
    }
   ],
   "source": [
    "# Example of listcomp and genexp\n",
    "colors = ['black', 'white']\n",
    "sizes = ['S', 'M', 'L']\n",
    "tshirts = [(color, size) for color in colors \n",
    "                         for size in sizes]\n",
    "print(tshirts)\n",
    "\n",
    "for tshirt in ('%s %s' % (c, s) for c in colors \n",
    "                                for s in sizes):\n",
    "    print(tshirt)"
   ]
  },
  {
   "cell_type": "code",
   "execution_count": 13,
   "id": "9f3b4973",
   "metadata": {},
   "outputs": [
    {
     "name": "stdout",
     "output_type": "stream",
     "text": [
      "1 2\n",
      "2 1\n",
      "(2, 4)\n",
      "4\n"
     ]
    }
   ],
   "source": [
    "# Example of Tuple unpacking 1\n",
    "# swapping the values of variables without using a temporary variable\n",
    "a = 1\n",
    "b = 2\n",
    "print(a, b)\n",
    "b, a = a, b\n",
    "print(a, b)\n",
    "\n",
    "# prefixing an argument with a star when calling a function\n",
    "# use dummy variable like _ as a placeholder\n",
    "r = divmod(20, 8)\n",
    "print(r)\n",
    "t = (20, 8)\n",
    "#r = divmod(t)\n",
    "_, mod = divmod(*t)\n",
    "print(mod)"
   ]
  },
  {
   "cell_type": "code",
   "execution_count": 14,
   "id": "565c6635",
   "metadata": {},
   "outputs": [
    {
     "name": "stdout",
     "output_type": "stream",
     "text": [
      "0 1 [2, 3, 4]\n",
      "0 1 []\n",
      "0 [1, 2] 3 4\n",
      "0 [] 1 2\n",
      "[0, 1] 2 3 4\n"
     ]
    }
   ],
   "source": [
    "# Example of Tuple unpacking 1\n",
    "# use * to grab excess items\n",
    "a, b, *rest = range(5)\n",
    "print(a, b, rest)\n",
    "a, b, *rest = range(2)\n",
    "print(a, b, rest)\n",
    "a, *body, c, d = range(5)\n",
    "print(a, body, c, d)\n",
    "a, *body, c, d = range(3)\n",
    "print(a, body, c, d)\n",
    "*head, b, c, d = range(5)\n",
    "print(head, b, c, d)"
   ]
  },
  {
   "cell_type": "code",
   "execution_count": 17,
   "id": "861fb86c",
   "metadata": {},
   "outputs": [
    {
     "name": "stdout",
     "output_type": "stream",
     "text": [
      "City(name='Tokyo', country='JP', population=36.933, coordinates=(35.689722, 139.691667))\n",
      "36.933\n",
      "(35.689722, 139.691667)\n"
     ]
    }
   ],
   "source": [
    "# Example of namedtuple\n",
    "from collections import namedtuple\n",
    "\n",
    "City = namedtuple('City', 'name country population coordinates')\n",
    "tokyo = City('Tokyo', 'JP', 36.933, (35.689722, 139.691667))\n",
    "print(tokyo)\n",
    "print(tokyo.population)\n",
    "print(tokyo.coordinates)"
   ]
  },
  {
   "cell_type": "code",
   "execution_count": 23,
   "id": "e689d641",
   "metadata": {},
   "outputs": [
    {
     "name": "stdout",
     "output_type": "stream",
     "text": [
      "('name', 'country', 'population', 'coordinates')\n",
      "{'name': 'Delhi NCR', 'country': 'IN', 'population': 21.935, 'coordinates': LatLong(lat=28.613889, long=77.208889)}\n"
     ]
    }
   ],
   "source": [
    "# Example of namedtuple 2\n",
    "print(City._fields)\n",
    "LatLong = namedtuple('LatLong', 'lat long')\n",
    "delhi_data = ('Delhi NCR', 'IN', 21.935, LatLong(28.613889, 77.208889))\n",
    "delhi = City._make(delhi_data)\n",
    "#delhi = City(*delhi_data)\n",
    "print(delhi._asdict())\n",
    "#for key, value in delhi._asdict().items():\n",
    "#    print(key + ':',  value)"
   ]
  },
  {
   "cell_type": "code",
   "execution_count": 28,
   "id": "5cabe1fd",
   "metadata": {},
   "outputs": [
    {
     "name": "stdout",
     "output_type": "stream",
     "text": [
      "Pimoroni PiBrella \t $17.50\n",
      "6mm Tactile Switch x20 \t $4.95\n",
      "Panavise Jr. - PV-201 \t $28.00\n",
      "PiTFT Mini Kit 320x240 \t $34.95\n",
      " \t \n"
     ]
    }
   ],
   "source": [
    "# Example of slice object\n",
    "invoice = '''\n",
    "0.....6.................................40........52...55........\n",
    "1909  Pimoroni PiBrella                     $17.50    3    $52.50\n",
    "1489  6mm Tactile Switch x20                 $4.95    2     $9.90\n",
    "1510  Panavise Jr. - PV-201                 $28.00    1    $28.00\n",
    "1601  PiTFT Mini Kit 320x240                $34.95    1    $34.95\n",
    "'''\n",
    "\n",
    "SKU = slice(0, 6)\n",
    "DESCRIPTION = slice(6, 40)\n",
    "UNIT_PRICE = slice(40, 52)\n",
    "QUANTITY = slice(52, 55)\n",
    "ITEM_TOTAL = slice(55, None)\n",
    "line_items = invoice.split('\\n')[2:]\n",
    "for item in line_items:\n",
    "    print(item[DESCRIPTION].strip(), '\\t', item[UNIT_PRICE].strip())"
   ]
  },
  {
   "cell_type": "code",
   "execution_count": 40,
   "id": "48c611ca",
   "metadata": {},
   "outputs": [
    {
     "name": "stdout",
     "output_type": "stream",
     "text": [
      "DEMO bisect_right\n",
      "haystack ->  1  4  5  6  8 12 15 20 21 23 23 26 29 30\n",
      "31 @ 14      |  |  |  |  |  |  |  |  |  |  |  |  |  |31\n",
      "30 @ 14      |  |  |  |  |  |  |  |  |  |  |  |  |  |30\n",
      "29 @ 13      |  |  |  |  |  |  |  |  |  |  |  |  |29\n",
      "23 @ 11      |  |  |  |  |  |  |  |  |  |  |23\n",
      "22 @  9      |  |  |  |  |  |  |  |  |22\n",
      "10 @  5      |  |  |  |  |10\n",
      " 8 @  5      |  |  |  |  |8 \n",
      " 5 @  3      |  |  |5 \n",
      " 2 @  1      |2 \n",
      " 1 @  1      |1 \n",
      " 0 @  0    0 \n",
      "\n",
      "DEMO bisect_left\n",
      "haystack ->  1  4  5  6  8 12 15 20 21 23 23 26 29 30\n",
      "31 @ 14      |  |  |  |  |  |  |  |  |  |  |  |  |  |31\n",
      "30 @ 13      |  |  |  |  |  |  |  |  |  |  |  |  |30\n",
      "29 @ 12      |  |  |  |  |  |  |  |  |  |  |  |29\n",
      "23 @  9      |  |  |  |  |  |  |  |  |23\n",
      "22 @  9      |  |  |  |  |  |  |  |  |22\n",
      "10 @  5      |  |  |  |  |10\n",
      " 8 @  4      |  |  |  |8 \n",
      " 5 @  2      |  |5 \n",
      " 2 @  1      |2 \n",
      " 1 @  0    1 \n",
      " 0 @  0    0 \n"
     ]
    }
   ],
   "source": [
    "# example of bisect.bisect 1\n",
    "import bisect\n",
    "import sys\n",
    "\n",
    "HAYSTACK = [1, 4, 5, 6, 8, 12, 15, 20, 21, 23, 23, 26, 29, 30]\n",
    "NEEDLES = [0, 1, 2, 5, 8, 10, 22, 23, 29, 30, 31]\n",
    "\n",
    "ROW_FMT = '{0:2d} @ {1:2d}    {2}{0:<2d}'\n",
    "\n",
    "def demo(bisect_fn):\n",
    "    for needle in reversed(NEEDLES):\n",
    "        position = bisect_fn(HAYSTACK, needle)\n",
    "        offset = position * '  |'\n",
    "        print(ROW_FMT.format(needle, position, offset))\n",
    "\n",
    "bisect_fn = bisect.bisect\n",
    "print('DEMO', bisect_fn.__name__)\n",
    "print('haystack ->', ' '.join('%2d' % n for n in HAYSTACK))\n",
    "demo(bisect_fn)\n",
    "print()\n",
    "bisect_fn = bisect.bisect_left\n",
    "print('DEMO', bisect_fn.__name__)\n",
    "print('haystack ->', ' '.join('%2d' % n for n in HAYSTACK))\n",
    "demo(bisect_fn)"
   ]
  },
  {
   "cell_type": "code",
   "execution_count": 42,
   "id": "c36772c4",
   "metadata": {},
   "outputs": [
    {
     "data": {
      "text/plain": [
       "['F', 'A', 'C', 'C', 'B', 'A', 'A', 'D', 'D', 'F']"
      ]
     },
     "execution_count": 42,
     "metadata": {},
     "output_type": "execute_result"
    }
   ],
   "source": [
    "# example of bisect.bisect 2\n",
    "\n",
    "def grade(score, breakpoints=[60, 70, 80, 90], grades='FDCBA'):\n",
    "    i = bisect.bisect(breakpoints, score)\n",
    "    return grades[i]\n",
    "[grade(score) for score in [33, 99, 77, 70, 89, 90, 100, 61, 60, 59]]"
   ]
  },
  {
   "cell_type": "code",
   "execution_count": 43,
   "id": "5f6477df",
   "metadata": {},
   "outputs": [
    {
     "name": "stdout",
     "output_type": "stream",
     "text": [
      "10 -> [10]\n",
      " 0 -> [0, 10]\n",
      " 6 -> [0, 6, 10]\n",
      " 8 -> [0, 6, 8, 10]\n",
      " 7 -> [0, 6, 7, 8, 10]\n",
      " 2 -> [0, 2, 6, 7, 8, 10]\n",
      "10 -> [0, 2, 6, 7, 8, 10, 10]\n"
     ]
    }
   ],
   "source": [
    "# example of bisect.insort\n",
    "import bisect \n",
    "import random\n",
    "\n",
    "SIZE = 7\n",
    "random.seed(1729)\n",
    "\n",
    "my_list = []\n",
    "for i in range(SIZE):\n",
    "    new_item = random.randrange(SIZE * 2)\n",
    "    bisect.insort(my_list, new_item)\n",
    "    print('%2d ->' % new_item, my_list)"
   ]
  },
  {
   "cell_type": "code",
   "execution_count": 49,
   "id": "4807ab88",
   "metadata": {},
   "outputs": [
    {
     "name": "stdout",
     "output_type": "stream",
     "text": [
      "1000 array('d', [0.8014104164650118, 0.5161205173306332, 0.4503195185000447])\n",
      "array('d', [0.8628965028315694, 0.8558229622195032, 0.09729015296133059, 0.4261538838233041, 0.18247495347014242, 0.7868251239508647, 0.7784639849469168, 0.49860463615919026, 0.8080630006641608, 0.7272807958140222])\n",
      "array('d', [0.09729015296133059, 0.18247495347014242, 0.4261538838233041, 0.49860463615919026, 0.7272807958140222, 0.7784639849469168, 0.7868251239508647, 0.8080630006641608, 0.8558229622195032, 0.8628965028315694])\n"
     ]
    }
   ],
   "source": [
    "# example of array\n",
    "from array import array \n",
    "from random import random\n",
    "\n",
    "floats = array('d', (random() for i in range(10**3)))\n",
    "print(len(floats), floats[:3])\n",
    "\n",
    "floats2 = array('d')\n",
    "for i in range(10):\n",
    "    floats2.append(random())\n",
    "print(floats2)\n",
    "\n",
    "floats3 = array(floats2.typecode, sorted(floats2))\n",
    "print(floats3)"
   ]
  },
  {
   "cell_type": "code",
   "execution_count": 56,
   "id": "0059db9f",
   "metadata": {},
   "outputs": [
    {
     "name": "stdout",
     "output_type": "stream",
     "text": [
      "deque([0, 1, 2, 3, 4, 5, 6, 7, 8, 9], maxlen=10)\n",
      "deque([7, 8, 9, 0, 1, 2, 3, 4, 5, 6], maxlen=10)\n",
      "deque([1, 2, 3, 4, 5, 6, 7, 8, 9, 0], maxlen=10)\n",
      "deque([-1, 1, 2, 3, 4, 5, 6, 7, 8, 9], maxlen=10)\n",
      "deque([3, 4, 5, 6, 7, 8, 9, 11, 22, 33], maxlen=10)\n",
      "deque([40, 30, 20, 10, 3, 4, 5, 6, 7, 8], maxlen=10)\n"
     ]
    }
   ],
   "source": [
    "# example of deque\n",
    "from collections import deque\n",
    "\n",
    "dq = deque(range(10), maxlen=10)\n",
    "print(dq)\n",
    "dq.rotate(3)\n",
    "print(dq)\n",
    "dq.rotate(-4)\n",
    "print(dq)\n",
    "dq.appendleft(-1)\n",
    "print(dq)\n",
    "dq.extend([11, 22, 33])\n",
    "print(dq)\n",
    "dq.extendleft([10, 20, 30, 40])\n",
    "print(dq)"
   ]
  },
  {
   "cell_type": "markdown",
   "id": "cb9161bb",
   "metadata": {},
   "source": [
    "### 3. Dictionaries and Sets\n",
    "\n",
    "\n",
    "##### Generic Mapping Types\n",
    "- Mapping, MutableMapping: interfaces of dict\n",
    "- Implementations of special mappings often extend dict or collections.UserDict\n",
    "- keys must be hashable\n",
    "\n",
    "\n",
    "##### Hashable\n",
    "- an object is hashable:\n",
    "    - if it has a hash value which never changes during lifetime; needs \\_\\_hash\\_\\_() method\n",
    "    - can be compared to other objects; needs \\_\\_eq\\_\\_() method\n",
    "- all immutable built-in objects are hashable\n",
    "    - except tuple, tuple is hashable only if all its items are hashable\n",
    "- user-defined types are hashable by default\n",
    "    - hash value is id() and they all compare not equal\n",
    "    - if implements custom \\_\\_eq()\\_\\_, the object is hashable only if all its attributes are immutable\n",
    "    \n",
    "\n",
    "##### Common Mapping Methods\n",
    "- Handling Missing Keys with **setdefault**\n",
    "    - e.g., index.setdefault(key, []).append(value)\n",
    "- defaultdict: another elegant solution of handling missing keys\n",
    "    - produce a defaultvalue whenever __getitem__ is passed a nonexisted key argument\n",
    "    - default_factory: produce default values\n",
    "    - only invoked for \\_\\_getitem\\_\\_ calls, e.g. dd.get(k) do not call the default_factory\n",
    "- \\_\\_missing\\_\\_()\n",
    "    - if provided \\_\\_missing\\_\\_ method, the dict.\\_\\_getitem\\_\\_ will call it when key is not found, instead of raising KeyError\n",
    "\n",
    "\n",
    "##### Variations of dict\n",
    "- collections.OrderedDict\n",
    "    - maintains keys in insertion order; iter items in a predictable order\n",
    "    - popitem pops the first item by default; popitem(last=True) pops the last item added\n",
    "- collections.Counter\n",
    "    - holds an integer count for each key\n",
    "    - counter.update(), counter.most_common(n)\n",
    "- collection.UserDict\n",
    "    - pure python implementation, works like a standard dict\n",
    "    - easier to create a new mapping type by extending UserDict rather than dict\n",
    "    - UserDict does not inherit from dict, but has an internal dict instance (called data)\n",
    "- Immutable Mappings -- MappingProxyType\n",
    "    - builds a read-only mappingproxy instance from a dict\n",
    "    \n",
    "    \n",
    "##### Set\n",
    "- literal set syntax like {1, 2, 3} is both **faster** and more readable than calling the constructior set([1, 2, 3])\n",
    "- set operations:\n",
    "    - infix operators: &, |, -, ^, require both operands be sets \n",
    "    - methods: and, or, sub, xor, arguments can be iterables of any type\n",
    "    - set predicates: in, <=, <, >=, >\n",
    "    \n",
    "    \n",
    "##### dict and set under the Hood\n",
    "- Hash tables in dictionaries\n",
    "    - hash table is a sparse array, cells in a hash table are called \"buckets\"\n",
    "    - python tries to keep at least 1/3 of the buckets empty; if too crowded, it is copied to to a larger place\n",
    "- Hashes and equality\n",
    "    - hash() works directly with built-in types; call \\_\\_hash\\_\\_() for user-defined types\n",
    "    - if two objects compare equal, their hash values must be equal\n",
    "- the hash table algorithm\n",
    "    1. calls hash(search_key) to obtain the hash_value of search_key\n",
    "    2. look up a bucket in the hash table by hash_value\n",
    "        - 2.1. if bucket is empty, raise KeyError\n",
    "        - 2.2. else get found_key, found_value in the found bucket\n",
    "            - 2.2.1 if found_key == search_key, return found_value\n",
    "            - 2.2.2 **hash collision**, lookup a different bucket (offset giving by the algorithm), repeat 2 \n",
    "    - Note: the chance of collision is very low\n",
    "- an object is hashable if all these requirements are met:\n",
    "    1. supports the hash() function, and always returns the same value over the lifetime of the object\n",
    "    2. supports the eq() function\n",
    "    3. if a == b, then hash(a) == hash(b) must also be True\n",
    "- Notes of dicts and hash tables\n",
    "    - User-defined types are hashable by default, use id() as their hash value and they all compare not equal\n",
    "    - dicts have significant memory overhead, -- hash tables must be **sparse** to work\n",
    "    - key ordering depends on insertion order\n",
    "    - adding items to a dict may change the order of existing keys\n",
    "        - It's a bad idea that modifying the contents of dict while iterating through it"
   ]
  },
  {
   "cell_type": "code",
   "execution_count": 70,
   "id": "8810a4f5",
   "metadata": {},
   "outputs": [],
   "source": [
    "# exmaple of setdefault, defaultdict\n",
    "import re\n",
    "import collections\n",
    "\n",
    "WORD_RE = re.compile('\\w+')\n",
    "file_path = '../../../../AI/NG-Coursera/mlng.md'\n",
    "\n",
    "#index = {}\n",
    "index = collections.defaultdict(list)\n",
    "with open(file_path, encoding='utf-8') as fp:\n",
    "    for line_no, line in enumerate(fp, 1):\n",
    "        for match in WORD_RE.finditer(line):\n",
    "            word = match.group()\n",
    "            column_no = match.start() + 1\n",
    "            location = (line_no, column_no)\n",
    "            ''' \n",
    "            #method 1: get()\n",
    "            occurences = index.get(word, [])\n",
    "            occurences.append(location)\n",
    "            index[word] = occurences\n",
    "            '''\n",
    "            ''' \n",
    "            #method 2: setdefault\n",
    "            index.setdefault(word, []).append(location)\n",
    "            '''\n",
    "            #method 3: use defaultdict\n",
    "            index[word].append(location)\n",
    "#for word in sorted(index, key=str.upper):\n",
    "#    print(word, index[word])"
   ]
  },
  {
   "cell_type": "code",
   "execution_count": 71,
   "id": "d7a44b33",
   "metadata": {},
   "outputs": [
    {
     "name": "stdout",
     "output_type": "stream",
     "text": [
      "two\n",
      "four\n",
      "NA\n"
     ]
    }
   ],
   "source": [
    "# example of dict.__missing__\n",
    "\n",
    "class StrKeyDict0(dict):\n",
    "    def __missing__(self, key):\n",
    "        if isinstance(key, str):\n",
    "            raise KeyError(key)\n",
    "        return self[str(key)]\n",
    "    def get(self, key, default=None):\n",
    "        try:\n",
    "            return self[key]\n",
    "        except KeyError:\n",
    "            return default\n",
    "    def __contains__(self, key):\n",
    "        return key in self.keys() or str(key) in self.keys()\n",
    "    \n",
    "d = StrKeyDict0([('2', 'two'), ('4', 'four')])\n",
    "print(d['2'])\n",
    "print(d[4])\n",
    "print(d.get(1, 'NA'))\n",
    "#print(d[1])"
   ]
  },
  {
   "cell_type": "code",
   "execution_count": 67,
   "id": "73ed7b48",
   "metadata": {},
   "outputs": [
    {
     "name": "stdout",
     "output_type": "stream",
     "text": [
      "two\n",
      "four\n",
      "NA\n",
      "one\n"
     ]
    }
   ],
   "source": [
    "# example of UserDict\n",
    "import collections\n",
    "\n",
    "class StrKeyDict(collections.UserDict):\n",
    "    def __missing__(self, key):\n",
    "        if isinstance(key, str):\n",
    "            raise KeyError(key)\n",
    "        return self[str(key)]\n",
    "    def __contains__(self, key):\n",
    "        return str(key) in self.data\n",
    "    def __setitem__(self, key, item):\n",
    "        self.data[str(key)] = item\n",
    "        \n",
    "d = StrKeyDict([('2', 'two'), ('4', 'four')])\n",
    "print(d['2'])\n",
    "print(d[4])\n",
    "print(d.get(1, 'NA'))\n",
    "d[1] = 'one'\n",
    "print(d[1])"
   ]
  },
  {
   "cell_type": "code",
   "execution_count": 68,
   "id": "e8ef90d2",
   "metadata": {},
   "outputs": [
    {
     "name": "stdout",
     "output_type": "stream",
     "text": [
      "Counter({'a': 5, 'b': 2, 'r': 2, 'c': 1, 'd': 1})\n",
      "Counter({'a': 10, 'z': 3, 'b': 2, 'r': 2, 'c': 1, 'd': 1})\n",
      "[('a', 10), ('z', 3)]\n"
     ]
    }
   ],
   "source": [
    "# example of Couter\n",
    "import collections\n",
    "\n",
    "ct = collections.Counter('abracadabra')\n",
    "print(ct)\n",
    "ct.update('aaaaazzz')\n",
    "print(ct)\n",
    "print(ct.most_common(2))"
   ]
  },
  {
   "cell_type": "markdown",
   "id": "10d795dc",
   "metadata": {},
   "source": [
    "### 4. Text versus Bytes\n",
    "\n",
    "\n",
    "#####  Character\n",
    "- character is **Unicode character**, python3 str, python2 unicode object\n",
    "- the identity of a charactor => **code point**, is a number\n",
    "- **encoding**: algorithm converts code points to byte sequences\n",
    "    - e.g., code point for A (U+0041) is encoded as \\X41 by utf-8 encoding\n",
    "    - encode str to bytes for storage or transmission\n",
    "- **decoding**: converting from bytes to code points\n",
    "    - decode bytes to str to get human-readable text\n",
    "    \n",
    "\n",
    "##### Byte\n",
    "- 2 built-in types:  **bytes** - immutable, **bytearray** - mutable, no literal syntax for bytearray\n",
    "- each item is 0-255 integer\n",
    "- 3 different displays\n",
    "    - ASCII character, if in printable ASCII range\n",
    "    - escape sequences, \\t, \\n, \\r, \\\\ represents tab, newline, carriage return, \\\n",
    "    - hexadecimal escape sequence, for other bytes, \\x00 -> null\n",
    "- bytes and bytearray supports most str method (except formatting and others depends on unicode data)\n",
    "- ways of creating bytes or bytearray:\n",
    "    - bytes.fromhex()\n",
    "    - call constructor, using different params\n",
    "        - str and encoding \n",
    "        - iterable values from 0 to 255\n",
    "        - single integer as size\n",
    "        - object of buffer protocol\n",
    "      \n",
    "     \n",
    " - creating bytes or bytearray will always copy the bytes, but **memoryview** share memory\n",
    " - struct: parse packed bytes into a tuple of fileds, used with bytes, bytearray and memoryview objects"
   ]
  },
  {
   "cell_type": "code",
   "execution_count": 69,
   "id": "6b0cd5f2",
   "metadata": {},
   "outputs": [
    {
     "name": "stdout",
     "output_type": "stream",
     "text": [
      "5\n",
      "café\n",
      "4\n"
     ]
    }
   ],
   "source": [
    "# example of encoding and decoding\n",
    "b = b'caf\\xc3\\xa9' \n",
    "print(len(b))\n",
    "s = b.decode('utf8')\n",
    "print(s)\n",
    "print(len(s))"
   ]
  },
  {
   "cell_type": "code",
   "execution_count": 11,
   "id": "19ed1d1e",
   "metadata": {},
   "outputs": [
    {
     "name": "stdout",
     "output_type": "stream",
     "text": [
      "b'1K\\xce\\xa9'\n",
      "b'\\xfe\\xff\\xff\\xff\\x00\\x00\\x01\\x00\\x02\\x00a\\x00A\\x00' 14 7\n",
      "b'\\xfe\\xff\\x00\\x01\\x02aA' 7 7\n",
      "b'abc'\n",
      "b'\\x00\\x00\\x00\\x00'\n"
     ]
    }
   ],
   "source": [
    "# example of creating bytes\n",
    "import array\n",
    "b1 = bytes.fromhex('31 4B CE A9')\n",
    "print(b1)\n",
    "numbers = array.array('h', [-2, -1, 0, 1, 2, 97, 65])\n",
    "b2 = bytes(numbers)\n",
    "print(b2, len(b2), len(numbers))\n",
    "numbers_1 = array.array('b', [-2, -1, 0, 1, 2, 97, 65])\n",
    "b3 = bytes(numbers_1)\n",
    "print(b3, len(b3), len(numbers_1))\n",
    "b4 = bytes('abc', 'utf-8')\n",
    "print(b4)\n",
    "b5 = bytes(4)\n",
    "print(b5)"
   ]
  },
  {
   "cell_type": "code",
   "execution_count": null,
   "id": "4dbda335",
   "metadata": {},
   "outputs": [],
   "source": []
  },
  {
   "cell_type": "code",
   "execution_count": null,
   "id": "586b6148",
   "metadata": {},
   "outputs": [],
   "source": []
  },
  {
   "cell_type": "code",
   "execution_count": null,
   "id": "a7b3301c",
   "metadata": {},
   "outputs": [],
   "source": []
  }
 ],
 "metadata": {
  "kernelspec": {
   "display_name": "Python 3 (ipykernel)",
   "language": "python",
   "name": "python3"
  },
  "language_info": {
   "codemirror_mode": {
    "name": "ipython",
    "version": 3
   },
   "file_extension": ".py",
   "mimetype": "text/x-python",
   "name": "python",
   "nbconvert_exporter": "python",
   "pygments_lexer": "ipython3",
   "version": "3.9.7"
  }
 },
 "nbformat": 4,
 "nbformat_minor": 5
}
