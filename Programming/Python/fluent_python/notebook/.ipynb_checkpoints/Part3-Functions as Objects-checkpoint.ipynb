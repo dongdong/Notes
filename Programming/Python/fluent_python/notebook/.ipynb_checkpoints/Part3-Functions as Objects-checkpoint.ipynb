{
 "cells": [
  {
   "cell_type": "markdown",
   "id": "10fe69f7",
   "metadata": {},
   "source": [
    "### 5. First class Functions\n",
    "\n",
    "- Functions in python are first-class objects, it can be:\n",
    "    - created at runtime\n",
    "    - assigned to a variable or element in a data structure\n",
    "    - passed as an argument to a function\n",
    "    - returned as the result of a function\n",
    "\n",
    "##### High-order functions\n",
    "- high-order function: a function that takes a function as argument or returns a function as the result\n",
    "    - e.g., map, sorted, \n",
    "- modern replacements for map, filter, and reduce\n",
    "    - listcomp and genexp does the job of map and filter combined, but is more readable\n",
    "    - the most common use case of reduce, summation is better served (readability and performance) by the **sum** built-in\n",
    "    - other reducing built-ins are: all(iterable) and any(iterable)\n",
    "- anonymous functions\n",
    "    - **lambda** keyword creates an anonymous function within a python expression\n",
    "    - lambda cannot make assignments or use any other python statement such as while, try, etc.\n",
    "    - the best use of anonymous functions is in the context of an **argument list**\n",
    "    - and rarely useful in any other places, as lambdas are either unreadable or unworkable\n",
    "\n",
    "\n",
    "##### callable objects\n",
    "- use callable() to determin whether an object is callable\n",
    "- seven callable types:\n",
    "    - user-define functions: create with def statsments or lambda expressions\n",
    "    - built-in functions: e.g., len()\n",
    "    - built-in methods: e.g., dict.get()\n",
    "    - methods: functions defined in the body of a class\n",
    "    - Classes: a class runs its \\_\\_new\\_\\_() method to create an instance\n",
    "    - class instances: if class defines \\_\\_call\\_\\_() method, its instance can be invoked as functions\n",
    "    - generator functions: functions or methods use the yield keyword\n",
    "- user-defined callable types\n",
    "    "
   ]
  },
  {
   "cell_type": "code",
   "execution_count": 3,
   "id": "750b055c",
   "metadata": {},
   "outputs": [
    {
     "name": "stdout",
     "output_type": "stream",
     "text": [
      "factorial(5)=120\n",
      "returns n!\n",
      "<class 'function'>\n"
     ]
    }
   ],
   "source": [
    "# example of function as onject\n",
    "\n",
    "def factorial(n):\n",
    "    '''returns n!'''\n",
    "    return 1 if n < 2 else n * factorial(n-1)\n",
    "\n",
    "param = 5\n",
    "ret = factorial(param)\n",
    "print(f'{factorial.__name__}({param})={ret}')\n",
    "print(factorial.__doc__)\n",
    "print(type(factorial))"
   ]
  },
  {
   "cell_type": "code",
   "execution_count": 4,
   "id": "4d45e0b1",
   "metadata": {},
   "outputs": [
    {
     "name": "stdout",
     "output_type": "stream",
     "text": [
      "['banana', 'apple', 'fig', 'raspberry', 'strawberry', 'cherry']\n"
     ]
    }
   ],
   "source": [
    "# example of anonymous function as parameters\n",
    "fruits = ['strawberry', 'fig', 'apple', 'cherry', 'raspberry', 'banana']\n",
    "reverse_sorted = sorted(fruits, key=lambda word: word[::-1])\n",
    "print(reverse_sorted)"
   ]
  },
  {
   "cell_type": "code",
   "execution_count": 9,
   "id": "e800bfdc",
   "metadata": {},
   "outputs": [
    {
     "name": "stdout",
     "output_type": "stream",
     "text": [
      "True\n",
      "True\n",
      "False\n",
      "True\n",
      "True\n",
      "True\n",
      "False\n",
      "True\n",
      "True\n"
     ]
    }
   ],
   "source": [
    "# example of use callable to detect whether an object is callable\n",
    "class Test1:\n",
    "    def m1():\n",
    "        pass\n",
    "class Test2:\n",
    "    def __call__(self):\n",
    "        pass\n",
    "print(callable(str))\n",
    "print(callable(abs))\n",
    "print(callable(13))\n",
    "print(callable(Test1))\n",
    "print(callable(Test1.m1))\n",
    "print(callable(Test2))\n",
    "test1 = Test1()\n",
    "test2 = Test2()\n",
    "print(callable(test1))\n",
    "print(callable(test1.m1))\n",
    "print(callable(test2))"
   ]
  },
  {
   "cell_type": "code",
   "execution_count": null,
   "id": "02ca7ab7",
   "metadata": {},
   "outputs": [],
   "source": []
  }
 ],
 "metadata": {
  "kernelspec": {
   "display_name": "Python 3 (ipykernel)",
   "language": "python",
   "name": "python3"
  },
  "language_info": {
   "codemirror_mode": {
    "name": "ipython",
    "version": 3
   },
   "file_extension": ".py",
   "mimetype": "text/x-python",
   "name": "python",
   "nbconvert_exporter": "python",
   "pygments_lexer": "ipython3",
   "version": "3.9.7"
  }
 },
 "nbformat": 4,
 "nbformat_minor": 5
}
