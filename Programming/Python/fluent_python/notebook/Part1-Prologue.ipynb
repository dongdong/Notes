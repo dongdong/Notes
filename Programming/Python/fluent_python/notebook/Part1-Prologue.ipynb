{
 "cells": [
  {
   "cell_type": "markdown",
   "id": "6de48565",
   "metadata": {},
   "source": [
    "### 1. The Python Data Model\n",
    "\n",
    "* consistency\n",
    "* data model\n",
    "* special methods(e.g. \\_\\_getitem\\_\\_), allow your objects to implement/support/interact with basic language constructs\n",
    "    - Iteration\n",
    "    - Collections\n",
    "    - Attibute access\n",
    "    - Operator overloading\n",
    "    - Function and method invocation\n",
    "    - Object creation and destruction\n",
    "    - String representation and formatting\n",
    "    - Managed contexts (with blocks)"
   ]
  },
  {
   "cell_type": "code",
   "execution_count": 35,
   "id": "fa31aecb",
   "metadata": {},
   "outputs": [],
   "source": [
    "# Example 1-1: A pythonic Card Deck\n",
    "import collections\n",
    "\n",
    "\n",
    "Card = collections.namedtuple('Card', ['rank', 'suit'])\n",
    "\n",
    "class FrenchDeck:\n",
    "    ranks = [str(n) for n in range(2, 11)] + list('JQKA')\n",
    "    suits = 'spades diamonds clubs hearts'.split()\n",
    "    \n",
    "    def __init__(self):\n",
    "        self._cards = [Card(rank, suit) for suit in self.suits for rank in self.ranks]\n",
    "        \n",
    "    def __len__(self):\n",
    "        return len(self._cards)\n",
    "\n",
    "    def __getitem__(self, position):\n",
    "        return self._cards[position]"
   ]
  },
  {
   "cell_type": "code",
   "execution_count": 19,
   "id": "dc8f0e47",
   "metadata": {},
   "outputs": [
    {
     "data": {
      "text/plain": [
       "Card(rank='7', suit='diamonds')"
      ]
     },
     "execution_count": 19,
     "metadata": {},
     "output_type": "execute_result"
    }
   ],
   "source": [
    "beer_card = Card('7', 'diamonds')\n",
    "beer_card"
   ]
  },
  {
   "cell_type": "code",
   "execution_count": 20,
   "id": "a0ed0486",
   "metadata": {},
   "outputs": [
    {
     "data": {
      "text/plain": [
       "52"
      ]
     },
     "execution_count": 20,
     "metadata": {},
     "output_type": "execute_result"
    }
   ],
   "source": [
    "deck = FrenchDeck()\n",
    "len(deck)"
   ]
  },
  {
   "cell_type": "code",
   "execution_count": 21,
   "id": "1ad5b46c",
   "metadata": {},
   "outputs": [
    {
     "data": {
      "text/plain": [
       "Card(rank='2', suit='spades')"
      ]
     },
     "execution_count": 21,
     "metadata": {},
     "output_type": "execute_result"
    }
   ],
   "source": [
    "deck[0]"
   ]
  },
  {
   "cell_type": "code",
   "execution_count": 22,
   "id": "5d584aaf",
   "metadata": {},
   "outputs": [
    {
     "data": {
      "text/plain": [
       "Card(rank='3', suit='spades')"
      ]
     },
     "execution_count": 22,
     "metadata": {},
     "output_type": "execute_result"
    }
   ],
   "source": [
    "deck[1]"
   ]
  },
  {
   "cell_type": "code",
   "execution_count": 23,
   "id": "bbd9ed6b",
   "metadata": {},
   "outputs": [
    {
     "data": {
      "text/plain": [
       "Card(rank='9', suit='hearts')"
      ]
     },
     "execution_count": 23,
     "metadata": {},
     "output_type": "execute_result"
    }
   ],
   "source": [
    "from random import choice\n",
    "choice(deck)"
   ]
  },
  {
   "cell_type": "code",
   "execution_count": 24,
   "id": "039a66cf",
   "metadata": {},
   "outputs": [
    {
     "data": {
      "text/plain": [
       "Card(rank='4', suit='spades')"
      ]
     },
     "execution_count": 24,
     "metadata": {},
     "output_type": "execute_result"
    }
   ],
   "source": [
    "choice(deck)"
   ]
  },
  {
   "cell_type": "code",
   "execution_count": 25,
   "id": "f0dc0565",
   "metadata": {},
   "outputs": [
    {
     "data": {
      "text/plain": [
       "[Card(rank='2', suit='spades'),\n",
       " Card(rank='3', suit='spades'),\n",
       " Card(rank='4', suit='spades')]"
      ]
     },
     "execution_count": 25,
     "metadata": {},
     "output_type": "execute_result"
    }
   ],
   "source": [
    "deck[:3]"
   ]
  },
  {
   "cell_type": "code",
   "execution_count": 26,
   "id": "f2d2cdd9",
   "metadata": {},
   "outputs": [
    {
     "data": {
      "text/plain": [
       "[Card(rank='A', suit='spades'),\n",
       " Card(rank='A', suit='diamonds'),\n",
       " Card(rank='A', suit='clubs'),\n",
       " Card(rank='A', suit='hearts')]"
      ]
     },
     "execution_count": 26,
     "metadata": {},
     "output_type": "execute_result"
    }
   ],
   "source": [
    "deck[12::13]"
   ]
  },
  {
   "cell_type": "code",
   "execution_count": 1,
   "id": "e0d5f03f",
   "metadata": {},
   "outputs": [],
   "source": [
    "#for card in deck:\n",
    "#    print(card)"
   ]
  },
  {
   "cell_type": "code",
   "execution_count": 2,
   "id": "30361271",
   "metadata": {},
   "outputs": [],
   "source": [
    "#for card in reversed(deck):\n",
    "#   print(card)"
   ]
  },
  {
   "cell_type": "code",
   "execution_count": 29,
   "id": "70c98bca",
   "metadata": {},
   "outputs": [
    {
     "data": {
      "text/plain": [
       "True"
      ]
     },
     "execution_count": 29,
     "metadata": {},
     "output_type": "execute_result"
    }
   ],
   "source": [
    "Card('Q', 'hearts') in deck"
   ]
  },
  {
   "cell_type": "code",
   "execution_count": 30,
   "id": "12610b2e",
   "metadata": {},
   "outputs": [
    {
     "data": {
      "text/plain": [
       "False"
      ]
     },
     "execution_count": 30,
     "metadata": {},
     "output_type": "execute_result"
    }
   ],
   "source": [
    "Card('7', 'beasts') in deck"
   ]
  },
  {
   "cell_type": "code",
   "execution_count": 33,
   "id": "807554d3",
   "metadata": {},
   "outputs": [],
   "source": [
    "suit_values = dict(spades=3, hearts=3, diamonds=1, clubs=0)\n",
    "def spades_high(card):\n",
    "    rank_value = FrenchDeck.ranks.index(card.rank)\n",
    "    return rank_value * len(suit_values) + suit_values[card.suit]"
   ]
  },
  {
   "cell_type": "code",
   "execution_count": 3,
   "id": "883c2b1e",
   "metadata": {},
   "outputs": [],
   "source": [
    "#for card in sorted(deck, key=spades_high):\n",
    "#    print(card)"
   ]
  },
  {
   "cell_type": "markdown",
   "id": "9d1ab900",
   "metadata": {},
   "source": [
    "#### Example of python data model and special methods\n",
    "- By implementing the **special methods** \\_\\_len\\_\\_ and \\_\\_getitem\\_\\_, FrenchDeck behave like a **stardard python sequence**, allowing it to benefit from **core language features**(e.g., iteration and slicing) and from the **standard library**(e.g., random.choice, reversed, sorted)."
   ]
  },
  {
   "cell_type": "code",
   "execution_count": 41,
   "id": "0f183477",
   "metadata": {},
   "outputs": [],
   "source": [
    "# Example 1-2: A simple two-dimensional vector class\n",
    "from math import hypot\n",
    "\n",
    "\n",
    "class Vector:\n",
    "    \n",
    "    def __init__(self, x=0, y=0):\n",
    "        self.x = x\n",
    "        self.y = y\n",
    "        \n",
    "    def __repr__(self):\n",
    "        return 'Vector(%r, %r)' % (self.x, self.y)\n",
    "    \n",
    "    def __abs__(self):\n",
    "        return hypot(self.x, self.y)\n",
    "    \n",
    "    def __bool__(self):\n",
    "        return bool(abs(self))\n",
    "    \n",
    "    def __add__(self, other):\n",
    "        x = self.x + other.x\n",
    "        y = self.y + other.y\n",
    "        return Vector(x, y)\n",
    "    \n",
    "    def __mul__(self, scalar):\n",
    "        return Vector(self.x * scalar, self.y * scalar)"
   ]
  },
  {
   "cell_type": "code",
   "execution_count": 42,
   "id": "76a33056",
   "metadata": {},
   "outputs": [
    {
     "data": {
      "text/plain": [
       "Vector(4, 5)"
      ]
     },
     "execution_count": 42,
     "metadata": {},
     "output_type": "execute_result"
    }
   ],
   "source": [
    "v1 = Vector(2, 4)\n",
    "v2 = Vector(2, 1)\n",
    "v1 + v2"
   ]
  },
  {
   "cell_type": "code",
   "execution_count": 43,
   "id": "fa0c9403",
   "metadata": {},
   "outputs": [
    {
     "data": {
      "text/plain": [
       "5.0"
      ]
     },
     "execution_count": 43,
     "metadata": {},
     "output_type": "execute_result"
    }
   ],
   "source": [
    "v = Vector(3, 4)\n",
    "abs(v)"
   ]
  },
  {
   "cell_type": "code",
   "execution_count": 44,
   "id": "4a435e3b",
   "metadata": {},
   "outputs": [
    {
     "data": {
      "text/plain": [
       "Vector(9, 12)"
      ]
     },
     "execution_count": 44,
     "metadata": {},
     "output_type": "execute_result"
    }
   ],
   "source": [
    "v * 3"
   ]
  },
  {
   "cell_type": "markdown",
   "id": "c0d939aa",
   "metadata": {},
   "source": [
    "#### Special Methods:\n",
    "##### String representation\n",
    "- \\_\\_repr\\_\\_: called by repr(), interactive console and debugger, '%r'\n",
    "- \\_\\_str\\_\\_: called by str(), and print function\n",
    "- if only implement one, choose \\_\\_repr\\_\\_\n",
    "\n",
    "##### Arithmetic Operation\n",
    "- \\_\\_add\\_\\_: +\n",
    "- \\_\\_mul\\_\\_: *\n",
    "\n",
    "##### Boolean value of a custom type\n",
    "- \\_\\_bool\\_\\_: bool(x) calls x.\\_\\_bool\\_\\_(); if not implemented, python tries to invoke x.\\_\\_len\\_\\_()"
   ]
  },
  {
   "cell_type": "markdown",
   "id": "bf61bec7",
   "metadata": {},
   "source": [
    "#### List of special methods\n",
    "\n",
    "- String/bytes representation: \\_\\_repr\\_\\_, \\_\\_str\\_\\_, \\_\\_format\\_\\_, \\_\\_bytes\\_\\_\n",
    "- Conversion to number: \\_\\_abs\\_\\_, \\_\\_bool\\_\\_, \\_\\_complex\\_\\_, \\_\\_int\\_\\_, \\_\\_float\\_\\_, \\_\\_hash\\_\\_, \\_\\_index\\_\\_\n",
    "- Emulating collections: \\_\\_len\\_\\_, \\_\\_getitem\\_\\_, \\_\\_setitem\\_\\_, \\_\\_delitem\\_\\_, \\_\\_contains\\_\\_\n",
    "- Iteration: \\_\\_iter\\_\\_, \\_\\_reversed\\_\\_, \\_\\_next\\_\\_\n",
    "- Emulating Callables: \\_\\_call\\_\\_\n",
    "- Context management: \\_\\_enter\\_\\_, \\_\\_exit\\_\\_\n",
    "- Instance creation and destruction: \\_\\_new\\_\\_, \\_\\_init\\_\\_, \\_\\_del\\_\\_\n",
    "- Attribute management: \\_\\_getattr\\_\\_, \\_\\_getattribute\\_\\_, \\_\\_setattr\\_\\_, \\_\\_delattr\\_\\_, \\_\\_dir\\_\\_\n",
    "- Class service: \\_\\_prepare\\_\\_, \\_\\_instancecheck\\_\\_, \\_\\_subclasscheck\\_\\_\n",
    "##### sepcial methods for operators\n",
    "- unary numeric operators: \\_\\_neg\\_\\_, \\_\\_pos\\_\\_, \\_\\_abs\\_\\_\n",
    "- rich comparision operators: \\_\\_lt\\_\\_, \\_\\_le\\_\\_, \\_\\_eq\\_\\_, \\_\\_ne\\_\\_, \\_\\_gt\\_\\_, \\_\\_ge\\_\\_\n",
    "- Arithmetic operators: \\_\\_add\\_\\_, \\_\\_sub\\_\\_, \\_\\_mul\\_\\_, \\_\\_truediv\\_\\_, \\_\\_floordiv\\_\\_, \\_\\_mod\\_\\_, \\_\\_divmod\\_\\_, \\_\\_pow\\_\\_,  \\_\\_round\\_\\_\n",
    "- Reversed arithmetic operators: \\_\\_radd\\_\\_, \\_\\_rsub\\_\\_, \\_\\_rmul\\_\\_, \\_\\_rtruediv\\_\\_, \\_\\_rfloordiv\\_\\_, \\_\\_rmod\\_\\_, \\_\\_rdivmod\\_\\_, \\_\\_rpow\\_\\_\n",
    "- Augmented assignment arithmetic operators: \\_\\_iadd\\_\\_, \\_\\_isub\\_\\_, \\_\\_imul\\_\\_, \\_\\_itruediv\\_\\_, \\_\\_ifloordiv\\_\\_, \\_\\_imod\\_\\_, \\_\\_ipow\\_\\_\n",
    "- Bitwise operators: \\_\\_invert\\_\\_, \\_\\_lshift\\_\\_, \\_\\_rshift\\_\\_, \\_\\_and\\_\\_, \\_\\_or\\_\\_, \\_\\_xor\\_\\_\n",
    "- Reversed bitwise operators: \\_\\_rlshift\\_\\_, \\_\\_rrshift\\_\\_, \\_\\_rand\\_\\_, \\_\\_rxor\\_\\_, \\_\\_ror\\_\\_ \n",
    "- Augmented assignment bitwise operators: \\_\\_ilshift\\_\\_, \\_\\_irshift\\_\\_, \\_\\_iand\\_\\_, \\_\\_ixor\\_\\_, \\_\\_ior\\_\\_  "
   ]
  }
 ],
 "metadata": {
  "kernelspec": {
   "display_name": "Python 3 (ipykernel)",
   "language": "python",
   "name": "python3"
  },
  "language_info": {
   "codemirror_mode": {
    "name": "ipython",
    "version": 3
   },
   "file_extension": ".py",
   "mimetype": "text/x-python",
   "name": "python",
   "nbconvert_exporter": "python",
   "pygments_lexer": "ipython3",
   "version": "3.9.7"
  }
 },
 "nbformat": 4,
 "nbformat_minor": 5
}
