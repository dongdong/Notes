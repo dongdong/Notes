{
 "cells": [
  {
   "cell_type": "markdown",
   "metadata": {},
   "source": [
    "### Outlines\n",
    "\n",
    "#### Introduction to Machine Learning\n",
    "    - Definitions, Types of learning algorithms\n",
    "    - Classic algorithms\n",
    "        > Linear Regression, Gradient Descent\n",
    "        > Logistic Regression, Underfitting vs. overfitting, Regularization\n",
    "        > Softmax Regression, General Linear Models\n",
    "        > Neural Networks, DNN, CNN, RNN\n",
    "        > Genetative Learning Algorithms, Naive Bayes\n",
    "        > Tree Models, Bagging & Boosting\n",
    "        > KMeans\n",
    "    - Practical advices of machine learning\n",
    "        > Feature engineering: feature scale, one-hot encoding\n",
    "        > Model Selection\n",
    "        > Bias vs. Variance\n",
    "        > Evaluation Metrics\n",
    "#### Practices of Machine Learning in Advertising\n",
    "    - Models in CTR estimations\n",
    "        > LR\n",
    "        > GBDT + LR\n",
    "        > FM, FFM, DeepFM\n",
    "        > Wide&Deep\n",
    "        > FTRL\n",
    "    - Current CTR model used in Noxmobi"
   ]
  },
  {
   "cell_type": "markdown",
   "metadata": {},
   "source": [
    "### Introduction to Machine Learning"
   ]
  },
  {
   "cell_type": "markdown",
   "metadata": {},
   "source": [
    "#### What is Machine Learning\n",
    "\n",
    "##### Definitions\n",
    "- Arthur Samuel (1959). Machine Learning: Field of study that gives computers the ability to learn without being explicitly programmed.\n",
    "- Tom Mitchell (1998). Well-posed Learning Problem: A computer program is said to learn from experience E with respect to some task T and some performance measure P, if its performance on T, as measured by P, improves with experience, e.g:\n",
    "    * T: classifying emails as spam or not\n",
    "    * E: watching you label emails as spam or not\n",
    "    * P: the number of fraction of emails correctly classified as spam/not spam\n",
    "\n",
    "##### Machine Learning vs. AI\n",
    "- Artificial Intelligence is a discipline\n",
    "- Machine learning is a specific way of solving AI problems\n",
    "<img src='imgs/1_1_ml_ai.png' height=\"200\" width=\"200\" style=\"margin:20px;\">\n",
    "\n",
    "##### Why Machine Learning\n",
    "<img src='imgs/1_1_ml_why_1.png' height=\"300\" width=\"600\" style=\"margin:20px;\">\n",
    "<img src='imgs/1_1_ml_why_2.png' height=\"300\" width=\"600\" style=\"margin:20px;\">\n",
    "\n",
    "##### Types of machine learnings\n",
    "- Supervised learning\n",
    "    - \"right answers\" given\n",
    "    - Regression: predict continuous valued output; e.g., housing price prediction\n",
    "        <img src='imgs/1_1_regression.png' height=\"300\" width=\"500\" style=\"margin:20px;\">\n",
    "    - Classification: predict discrete valued output (0 or 1); e.g., cancer detection: malignant or benign \n",
    "        <img src='imgs/1_1_classification.png' height=\"300\" width=\"300\" style=\"margin:20px;\">\n",
    "- Unsupervised learning\n",
    "    - Clustering\n",
    "        <img src='imgs/1_1_clustering.png' height=\"300\" width=\"300\" style=\"margin:20px;\">\n",
    "- Others: Reinforcement learning, Recommender systems\n",
    "\n",
    "##### Machine Learning Workflow\n",
    "<img src='imgs/1_1_workflow.png' height=\"300\" width=\"300\" style=\"margin:20px;\">\n",
    "<img src='imgs/1_1_ml_stage_1.png' height=\"300\" width=\"600\" style=\"margin:20px;\">\n",
    "<img src='imgs/1_1_ml_stage_2.png' height=\"300\" width=\"600\" style=\"margin:20px;\">"
   ]
  },
  {
   "cell_type": "markdown",
   "metadata": {},
   "source": [
    "#### Linear Regression\n",
    "\n",
    "##### Training set & Notations\n",
    "<img src='imgs/1_2_notations.png' height=\"300\" width=\"500\" style=\"margin:20px;\">\n",
    "\n",
    "##### Hypothesis & Cost function\n",
    "<img src='imgs/1_2_hypothesis.png' height=\"500\" width=\"250\" style=\"margin:20px;\">\n",
    "<img src='imgs/1_2_cost_function.png' height=\"500\" width=\"250\" style=\"margin:20px;\">\n",
    "<img src='imgs/1_2_cost_function_1.png' height=\"300\" width=\"400\" style=\"margin:20px;\">\n",
    "<img src='imgs/1_2_cost_function_2.png' height=\"400\" width=\"600\" style=\"margin:20px;\">\n",
    "<img src='imgs/1_2_cost_function_3.png' height=\"400\" width=\"600\" style=\"margin:20px;\">\n",
    "\n",
    "##### Gradient Descent & Learning rate\n",
    "<img src='imgs/1_2_gradient_descent_1.png' height=\"320\" width=\"400\" style=\"margin:20px;\">\n",
    "<img src='imgs/1_2_gradient_descent_2.png' height=\"320\" width=\"400\" style=\"margin:20px;\">\n",
    "<img src='imgs/1_2_gradient_descent_3.png' height=\"320\" width=\"500\" style=\"margin:20px;\">\n",
    "<img src='imgs/1_2_gradient_descent_4.png' height=\"320\" width=\"500\" style=\"margin:20px;\">\n",
    "<img src='imgs/1_2_gradient_descent_5.png' height=\"320\" width=\"500\" style=\"margin:20px;\">\n",
    "<img src='imgs/1_2_gradient_descent_6.png' height=\"400\" width=\"600\" style=\"margin:20px;\">\n",
    "<img src='imgs/1_2_gradient_descent_7.png' height=\"400\" width=\"600\" style=\"margin:20px;\">\n",
    "<img src='imgs/1_2_gradient_descent_8.png' height=\"400\" width=\"600\" style=\"margin:20px;\">\n",
    "<img src='imgs/1_2_gradient_descent_9.png' height=\"400\" width=\"600\" style=\"margin:20px;\">\n",
    "\n",
    "- Batch gradient descent\n",
    "- stochastic gradient descent\n",
    "- Mini-batch gradient descent\n",
    "\n",
    "##### Linear Regression with multiple variables\n",
    "<img src='imgs/1_2_multi_variable_1.png' height=\"400\" width=\"600\" style=\"margin:20px;\">\n",
    "<img src='imgs/1_2_multi_variable_2.png' height=\"400\" width=\"600\" style=\"margin:20px;\">\n",
    "<img src='imgs/1_2_multi_variable_3.png' height=\"400\" width=\"600\" style=\"margin:20px;\">"
   ]
  },
  {
   "cell_type": "markdown",
   "metadata": {},
   "source": [
    "#### Logistic Regression"
   ]
  },
  {
   "cell_type": "markdown",
   "metadata": {},
   "source": [
    "#### Nerual Networks"
   ]
  },
  {
   "cell_type": "markdown",
   "metadata": {},
   "source": [
    "##### Practical Advises I: Feature Scaling\n",
    "\n",
    "<img src='imgs/2_1_feature_scaling_1.png' height=\"400\" width=\"500\" style=\"margin:20px;\">\n",
    "\n",
    "- Get every feature into approximately a [-1, 1] range\n",
    "\n",
    "<img src='imgs/2_1_feature_scaling_2.png' height=\"400\" width=\"500\" style=\"margin:20px;\">"
   ]
  },
  {
   "cell_type": "markdown",
   "metadata": {},
   "source": [
    "### Practices of Machine Learning in Avertising"
   ]
  },
  {
   "cell_type": "code",
   "execution_count": null,
   "metadata": {},
   "outputs": [],
   "source": []
  }
 ],
 "metadata": {
  "kernelspec": {
   "display_name": "Python 3",
   "language": "python",
   "name": "python3"
  },
  "language_info": {
   "codemirror_mode": {
    "name": "ipython",
    "version": 3
   },
   "file_extension": ".py",
   "mimetype": "text/x-python",
   "name": "python",
   "nbconvert_exporter": "python",
   "pygments_lexer": "ipython3",
   "version": "3.6.4"
  }
 },
 "nbformat": 4,
 "nbformat_minor": 2
}
